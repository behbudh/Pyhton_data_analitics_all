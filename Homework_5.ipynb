{
 "cells": [
  {
   "cell_type": "code",
   "execution_count": 1,
   "metadata": {},
   "outputs": [],
   "source": [
    "# Import pandas for data processing\n",
    "import statistics as st\n",
    "import numpy as np\n",
    "import pandas as pd\n",
    "import matplotlib.pyplot as plt\n",
    "import seaborn as sns\n",
    "from sklearn.linear_model import LinearRegression\n",
    "from sklearn.metrics import mean_squared_error, accuracy_score,confusion_matrix, multilabel_confusion_matrix\n",
    "from sklearn.model_selection import train_test_split\n",
    "from sklearn import tree\n",
    "from sklearn import svm\n",
    "from sklearn.multiclass import OneVsOneClassifier\n",
    "from sklearn.svm import LinearSVC\n",
    "#from sklearn.metrics import accuracy_score\n",
    "#from sklearn.metrics import multilabel_confusion_matrix\n",
    "from sklearn import ensemble\n",
    "from sklearn import datasets\n",
    "from sklearn.preprocessing import MinMaxScaler\n",
    "from sklearn.cluster import KMeans"
   ]
  },
  {
   "cell_type": "code",
   "execution_count": 2,
   "metadata": {},
   "outputs": [],
   "source": [
    "# Read the dataset\n",
    "data_studentclusters = pd.read_csv('studentclusters.csv')"
   ]
  },
  {
   "cell_type": "code",
   "execution_count": 3,
   "metadata": {},
   "outputs": [
    {
     "data": {
      "text/html": [
       "<div>\n",
       "<style scoped>\n",
       "    .dataframe tbody tr th:only-of-type {\n",
       "        vertical-align: middle;\n",
       "    }\n",
       "\n",
       "    .dataframe tbody tr th {\n",
       "        vertical-align: top;\n",
       "    }\n",
       "\n",
       "    .dataframe thead th {\n",
       "        text-align: right;\n",
       "    }\n",
       "</style>\n",
       "<table border=\"1\" class=\"dataframe\">\n",
       "  <thead>\n",
       "    <tr style=\"text-align: right;\">\n",
       "      <th></th>\n",
       "      <th>marks</th>\n",
       "      <th>shours</th>\n",
       "    </tr>\n",
       "  </thead>\n",
       "  <tbody>\n",
       "    <tr>\n",
       "      <td>0</td>\n",
       "      <td>72</td>\n",
       "      <td>20.0</td>\n",
       "    </tr>\n",
       "    <tr>\n",
       "      <td>1</td>\n",
       "      <td>42</td>\n",
       "      <td>19.0</td>\n",
       "    </tr>\n",
       "    <tr>\n",
       "      <td>2</td>\n",
       "      <td>77</td>\n",
       "      <td>7.0</td>\n",
       "    </tr>\n",
       "    <tr>\n",
       "      <td>3</td>\n",
       "      <td>93</td>\n",
       "      <td>22.0</td>\n",
       "    </tr>\n",
       "    <tr>\n",
       "      <td>4</td>\n",
       "      <td>30</td>\n",
       "      <td>20.0</td>\n",
       "    </tr>\n",
       "  </tbody>\n",
       "</table>\n",
       "</div>"
      ],
      "text/plain": [
       "   marks  shours\n",
       "0     72    20.0\n",
       "1     42    19.0\n",
       "2     77     7.0\n",
       "3     93    22.0\n",
       "4     30    20.0"
      ]
     },
     "execution_count": 3,
     "metadata": {},
     "output_type": "execute_result"
    }
   ],
   "source": [
    "data_studentclusters.head()"
   ]
  },
  {
   "cell_type": "code",
   "execution_count": 4,
   "metadata": {},
   "outputs": [
    {
     "data": {
      "text/plain": [
       "marks     0\n",
       "shours    0\n",
       "dtype: int64"
      ]
     },
     "execution_count": 4,
     "metadata": {},
     "output_type": "execute_result"
    }
   ],
   "source": [
    "data_studentclusters.isnull().sum()"
   ]
  },
  {
   "cell_type": "code",
   "execution_count": 5,
   "metadata": {},
   "outputs": [
    {
     "data": {
      "text/plain": [
       "marks       int64\n",
       "shours    float64\n",
       "dtype: object"
      ]
     },
     "execution_count": 5,
     "metadata": {},
     "output_type": "execute_result"
    }
   ],
   "source": [
    "data_studentclusters.dtypes"
   ]
  },
  {
   "cell_type": "code",
   "execution_count": 6,
   "metadata": {},
   "outputs": [
    {
     "data": {
      "text/html": [
       "<div>\n",
       "<style scoped>\n",
       "    .dataframe tbody tr th:only-of-type {\n",
       "        vertical-align: middle;\n",
       "    }\n",
       "\n",
       "    .dataframe tbody tr th {\n",
       "        vertical-align: top;\n",
       "    }\n",
       "\n",
       "    .dataframe thead th {\n",
       "        text-align: right;\n",
       "    }\n",
       "</style>\n",
       "<table border=\"1\" class=\"dataframe\">\n",
       "  <thead>\n",
       "    <tr style=\"text-align: right;\">\n",
       "      <th></th>\n",
       "      <th>marks</th>\n",
       "      <th>shours</th>\n",
       "    </tr>\n",
       "  </thead>\n",
       "  <tbody>\n",
       "    <tr>\n",
       "      <td>count</td>\n",
       "      <td>49.000000</td>\n",
       "      <td>49.000000</td>\n",
       "    </tr>\n",
       "    <tr>\n",
       "      <td>mean</td>\n",
       "      <td>50.938776</td>\n",
       "      <td>15.397959</td>\n",
       "    </tr>\n",
       "    <tr>\n",
       "      <td>std</td>\n",
       "      <td>20.011880</td>\n",
       "      <td>7.169800</td>\n",
       "    </tr>\n",
       "    <tr>\n",
       "      <td>min</td>\n",
       "      <td>20.000000</td>\n",
       "      <td>2.000000</td>\n",
       "    </tr>\n",
       "    <tr>\n",
       "      <td>25%</td>\n",
       "      <td>37.000000</td>\n",
       "      <td>9.000000</td>\n",
       "    </tr>\n",
       "    <tr>\n",
       "      <td>50%</td>\n",
       "      <td>49.000000</td>\n",
       "      <td>16.000000</td>\n",
       "    </tr>\n",
       "    <tr>\n",
       "      <td>75%</td>\n",
       "      <td>64.000000</td>\n",
       "      <td>21.000000</td>\n",
       "    </tr>\n",
       "    <tr>\n",
       "      <td>max</td>\n",
       "      <td>93.000000</td>\n",
       "      <td>30.000000</td>\n",
       "    </tr>\n",
       "  </tbody>\n",
       "</table>\n",
       "</div>"
      ],
      "text/plain": [
       "           marks     shours\n",
       "count  49.000000  49.000000\n",
       "mean   50.938776  15.397959\n",
       "std    20.011880   7.169800\n",
       "min    20.000000   2.000000\n",
       "25%    37.000000   9.000000\n",
       "50%    49.000000  16.000000\n",
       "75%    64.000000  21.000000\n",
       "max    93.000000  30.000000"
      ]
     },
     "execution_count": 6,
     "metadata": {},
     "output_type": "execute_result"
    }
   ],
   "source": [
    "data_studentclusters.describe()"
   ]
  },
  {
   "cell_type": "code",
   "execution_count": 7,
   "metadata": {},
   "outputs": [
    {
     "data": {
      "text/plain": [
       "0     20.0\n",
       "1     19.0\n",
       "2      7.0\n",
       "3     22.0\n",
       "4     20.0\n",
       "5     15.0\n",
       "6      8.0\n",
       "7     24.0\n",
       "8     26.0\n",
       "9      7.0\n",
       "10    30.0\n",
       "11     8.0\n",
       "12    18.0\n",
       "13    23.0\n",
       "14    22.0\n",
       "15    16.0\n",
       "16    15.0\n",
       "17    23.0\n",
       "18    17.0\n",
       "19    21.0\n",
       "20    21.0\n",
       "21     7.5\n",
       "22    17.0\n",
       "23    15.0\n",
       "24    18.0\n",
       "25     5.0\n",
       "26    16.0\n",
       "27    14.0\n",
       "28    27.0\n",
       "29    17.0\n",
       "30     3.0\n",
       "31     4.0\n",
       "32     9.0\n",
       "33     2.0\n",
       "34    14.0\n",
       "35     2.0\n",
       "36    16.0\n",
       "37    14.0\n",
       "38    16.0\n",
       "39    10.0\n",
       "40     4.0\n",
       "41    18.0\n",
       "42    23.0\n",
       "43    16.0\n",
       "44    26.0\n",
       "45    17.0\n",
       "46    16.0\n",
       "47     5.0\n",
       "48    21.0\n",
       "Name: shours, dtype: float64"
      ]
     },
     "execution_count": 7,
     "metadata": {},
     "output_type": "execute_result"
    }
   ],
   "source": [
    "x = data_studentclusters.iloc[:, 1]\n",
    "y = data_studentclusters.iloc[:, 0]\n",
    "x \n"
   ]
  },
  {
   "cell_type": "code",
   "execution_count": 8,
   "metadata": {},
   "outputs": [
    {
     "data": {
      "image/png": "[encoded data removed]",
      "text/plain": [
       "<Figure size 720x360 with 1 Axes>"
      ]
     },
     "metadata": {
      "needs_background": "light"
     },
     "output_type": "display_data"
    }
   ],
   "source": [
    "# Visualise the data using Scatter plot\n",
    "#plt.plot(x,y)\n",
    "fig = plt.figure(figsize = (10,5))\n",
    "plt.xlabel('shours')\n",
    "plt.ylabel('marks')\n",
    "plt.title('Scatter plot Visualisation of studentclusters')\n",
    "plt.scatter(x, y, s=100, c = 'magenta', label = 'studentclusters')\n",
    "\n",
    "plt.legend()\n",
    "plt.show()"
   ]
  },
  {
   "cell_type": "code",
   "execution_count": 9,
   "metadata": {},
   "outputs": [
    {
     "data": {
      "text/plain": [
       "array([[0.71232877, 0.64285714],\n",
       "       [0.30136986, 0.60714286],\n",
       "       [0.78082192, 0.17857143],\n",
       "       [1.        , 0.71428571],\n",
       "       [0.1369863 , 0.64285714],\n",
       "       [0.45205479, 0.46428571],\n",
       "       [0.73972603, 0.21428571],\n",
       "       [0.10958904, 0.78571429],\n",
       "       [0.67123288, 0.85714286],\n",
       "       [0.60273973, 0.17857143],\n",
       "       [0.91780822, 1.        ],\n",
       "       [0.68493151, 0.21428571],\n",
       "       [0.30136986, 0.57142857],\n",
       "       [0.80821918, 0.75      ],\n",
       "       [0.23287671, 0.71428571],\n",
       "       [0.43835616, 0.5       ],\n",
       "       [0.42465753, 0.46428571],\n",
       "       [0.06849315, 0.75      ],\n",
       "       [0.38356164, 0.53571429],\n",
       "       [0.89041096, 0.67857143],\n",
       "       [0.02739726, 0.67857143],\n",
       "       [0.5890411 , 0.19642857],\n",
       "       [0.30136986, 0.53571429],\n",
       "       [0.54794521, 0.46428571],\n",
       "       [0.49315068, 0.57142857],\n",
       "       [0.04109589, 0.10714286],\n",
       "       [0.30136986, 0.5       ],\n",
       "       [0.2739726 , 0.42857143],\n",
       "       [0.10958904, 0.89285714],\n",
       "       [0.36986301, 0.53571429],\n",
       "       [0.06849315, 0.03571429],\n",
       "       [0.15068493, 0.07142857],\n",
       "       [0.5890411 , 0.25      ],\n",
       "       [0.19178082, 0.        ],\n",
       "       [0.39726027, 0.42857143],\n",
       "       [0.04109589, 0.        ],\n",
       "       [0.49315068, 0.5       ],\n",
       "       [0.34246575, 0.42857143],\n",
       "       [0.45205479, 0.5       ],\n",
       "       [0.7260274 , 0.28571429],\n",
       "       [0.02739726, 0.07142857],\n",
       "       [0.43835616, 0.57142857],\n",
       "       [0.60273973, 0.75      ],\n",
       "       [0.30136986, 0.5       ],\n",
       "       [0.84931507, 0.85714286],\n",
       "       [0.2739726 , 0.53571429],\n",
       "       [0.2739726 , 0.5       ],\n",
       "       [0.        , 0.10714286],\n",
       "       [0.83561644, 0.67857143]])"
      ]
     },
     "execution_count": 9,
     "metadata": {},
     "output_type": "execute_result"
    }
   ],
   "source": [
    "# Fit and Transform the data for MinMax normalization\n",
    "scaler_studentclusters = MinMaxScaler()\n",
    "rescaled_X = scaler_studentclusters.fit_transform(data_studentclusters)\n",
    "rescaled_X"
   ]
  },
  {
   "cell_type": "code",
   "execution_count": 10,
   "metadata": {},
   "outputs": [],
   "source": [
    "# import KMeans for clustering\n",
    "kmeans = KMeans(n_clusters = 5)\n",
    "\n",
    "    "
   ]
  },
  {
   "cell_type": "code",
   "execution_count": 11,
   "metadata": {},
   "outputs": [],
   "source": [
    "# Fit the input data. Create labels and get inertia\n",
    "kmeans.fit(rescaled_X)\n",
    "inertia = kmeans.inertia_\n",
    "labels = kmeans.labels_\n",
    "\n"
   ]
  },
  {
   "cell_type": "code",
   "execution_count": 12,
   "metadata": {},
   "outputs": [
    {
     "data": {
      "text/plain": [
       "array([[0.37808219, 0.50714286],\n",
       "       [0.80974125, 0.76984127],\n",
       "       [0.07436399, 0.05612245],\n",
       "       [0.67318982, 0.21683673],\n",
       "       [0.11415525, 0.74404762]])"
      ]
     },
     "execution_count": 12,
     "metadata": {},
     "output_type": "execute_result"
    }
   ],
   "source": [
    "kmeans.cluster_centers_"
   ]
  },
  {
   "cell_type": "code",
   "execution_count": 13,
   "metadata": {},
   "outputs": [
    {
     "data": {
      "image/png": "[encoded data removed]",
      "text/plain": [
       "<Figure size 432x288 with 1 Axes>"
      ]
     },
     "metadata": {
      "needs_background": "light"
     },
     "output_type": "display_data"
    }
   ],
   "source": [
    "wcss = []\n",
    "for i in range(1,11):\n",
    "    kmeans = KMeans(n_clusters = i, init = 'k-means++', random_state = 42)\n",
    "    kmeans.fit(rescaled_X)\n",
    "    wcss.append(kmeans.inertia_)\n",
    "    \n",
    "plt.plot(range(1, 11),wcss)\n",
    "plt.title('Elbow method')\n",
    "plt.xlabel('Cluster size')\n",
    "plt.ylabel('WCSS')\n",
    "plt.show()"
   ]
  },
  {
   "cell_type": "code",
   "execution_count": 14,
   "metadata": {},
   "outputs": [
    {
     "data": {
      "text/plain": [
       "Text(0, 0.5, 'Squared Sum (Inertia)')"
      ]
     },
     "execution_count": 14,
     "metadata": {},
     "output_type": "execute_result"
    },
    {
     "data": {
      "image/png": "[encoded data removed]",
      "text/plain": [
       "<Figure size 432x288 with 1 Axes>"
      ]
     },
     "metadata": {
      "needs_background": "light"
     },
     "output_type": "display_data"
    }
   ],
   "source": [
    "inertia = []\n",
    "\n",
    "for i in range(2,16):\n",
    "    kmeans = KMeans(n_clusters=i)\n",
    "    kmeans.fit(rescaled_X)\n",
    "    inertia.append(kmeans.inertia_)\n",
    "    \n",
    "\n",
    "plt.plot(range(2,16), inertia, marker='o')\n",
    "plt.title('Elbow Curve')\n",
    "plt.xlabel('Number of Clusters')\n",
    "plt.ylabel('Squared Sum (Inertia)')"
   ]
  },
  {
   "cell_type": "code",
   "execution_count": 15,
   "metadata": {},
   "outputs": [],
   "source": [
    "# Elbow method to determine optimum clusters\n"
   ]
  },
  {
   "cell_type": "markdown",
   "metadata": {},
   "source": [
    "# Behbud_Hamzayev"
   ]
  }
 ],
 "metadata": {
  "kernelspec": {
   "display_name": "Python 3",
   "language": "python",
   "name": "python3"
  },
  "language_info": {
   "codemirror_mode": {
    "name": "ipython",
    "version": 3
   },
   "file_extension": ".py",
   "mimetype": "text/x-python",
   "name": "python",
   "nbconvert_exporter": "python",
   "pygments_lexer": "ipython3",
   "version": "3.7.4"
  }
 },
 "nbformat": 4,
 "nbformat_minor": 4
}
